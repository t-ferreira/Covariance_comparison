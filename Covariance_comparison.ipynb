{
 "cells": [
  {
   "cell_type": "code",
   "execution_count": 7,
   "metadata": {},
   "outputs": [],
   "source": [
    "import numpy as np\n",
    "import matplotlib.pyplot as plt\n",
    "from matplotlib import rc\n",
    "from matplotlib import rcParams\n",
    "import lmfit\n",
    "from lmfit import minimize, Parameters\n",
    "import time\n",
    "import math\n",
    "\n",
    "%matplotlib inline"
   ]
  },
  {
   "cell_type": "markdown",
   "metadata": {},
   "source": [
    "# Load the covariances"
   ]
  },
  {
   "cell_type": "code",
   "execution_count": 2,
   "metadata": {},
   "outputs": [],
   "source": [
    "RotatedCovariance = np.loadtxt('../Rotation-2pt/rotation-tweaks/RotParameters/cov_c.txt', dtype=np.float64)\n",
    "RotatedCovariance = RotatedCovariance[:16,:16]\n",
    "RotatedGaussianCovariance = np.loadtxt('../BJY1/ParametersBJ/cov_c.txt', dtype=np.float64)\n",
    "RotatedGaussianCovariance = RotatedGaussianCovariance[:16,:16]"
   ]
  },
  {
   "cell_type": "markdown",
   "metadata": {},
   "source": [
    "This doesn't seem to run properly for some reason, so let's run it separately."
   ]
  },
  {
   "cell_type": "code",
   "execution_count": 4,
   "metadata": {},
   "outputs": [],
   "source": [
    "def Correlation_from_covariance(covmat):\n",
    "    v = np.sqrt(np.diag(covmat))\n",
    "    outer_v = np.outer(v, v)\n",
    "    correlation = covmat / outer_v\n",
    "    correlation[covmat == 0] = 0\n",
    "    return correlation"
   ]
  },
  {
   "cell_type": "markdown",
   "metadata": {},
   "source": [
    "# Cool, awesome code here"
   ]
  },
  {
   "cell_type": "code",
   "execution_count": 5,
   "metadata": {},
   "outputs": [],
   "source": [
    "class FindError(object):\n",
    "    \n",
    "    def __init__(self, testing_covmat, base_covmat, which=None, where=None, sample_size=1000, method='powell'):\n",
    "\n",
    "        self.testing_covmat = testing_covmat\n",
    "        self.base_covmat = base_covmat\n",
    "        self.sample_size = sample_size\n",
    "        self.base_corr, self.testing_corr = self.get_corr()\n",
    "        self.where = where\n",
    "        self.error = {}\n",
    "        #self.which = which\n",
    "        params = lmfit.Parameters()\n",
    "        params.add('err', value=np.pi, min=0.01, max=20)\n",
    "        \n",
    "        self.which = \"diag\"\n",
    "        self.base, self.testing = self.get_stuff()\n",
    "        self.diag_results = self.get_bounds(params, method)\n",
    "        self.error[self.which] = self.diag_results\n",
    "        self.which = \"corr\"\n",
    "        self.base, self.testing = self.get_stuff()\n",
    "        self.corr_results = self.get_bounds(params, method)\n",
    "        self.error[self.which] = self.corr_results\n",
    "    \n",
    "    def get_stuff(self):\n",
    "        if self.which == \"corr\":\n",
    "            base = self.base_corr\n",
    "            testing = self.testing_corr\n",
    "        else:\n",
    "            base = np.diag(self.base_covmat)\n",
    "            testing = np.diag(self.testing_covmat)\n",
    "        return base, testing\n",
    "        \n",
    "    def Correlation_from_covariance(covmat):\n",
    "        v = np.sqrt(np.diag(covmat))\n",
    "        outer_v = np.outer(v, v)\n",
    "        correlation = covmat / outer_v\n",
    "        correlation[covmat == 0] = 0\n",
    "        return correlation\n",
    "    \n",
    "    def get_chi2(self,sample1,sample2):\n",
    "        diff = np.ravel(sample1-sample2)\n",
    "        part = diff@(self.invS)\n",
    "        return part@diff.T\n",
    "    \n",
    "    def get_corr(self):\n",
    "        length = len(self.testing_covmat)\n",
    "        a = length*(length+1)/2 - length\n",
    "        corr_b = np.zeros(int(a))\n",
    "        corr_t = np.zeros(int(a))\n",
    "        n = 0\n",
    "        start = 1\n",
    "        for i in range(length):\n",
    "            for j in range(start, length):\n",
    "                corr_b[n] = Correlation_from_covariance(self.base_covmat)[i,j]\n",
    "                corr_t[n] = Correlation_from_covariance(self.testing_covmat)[i,j]\n",
    "                n += 1\n",
    "            start += 1\n",
    "        return corr_b, corr_t    \n",
    "    \n",
    "    def get_perturbed(self, params):\n",
    "        err = params['err'].value\n",
    "        if len(self.base) == len(self.base_covmat):\n",
    "            diag_sqrt = np.sqrt(self.base)\n",
    "            for j in range(len(diag_sqrt)):\n",
    "                a = np.random.normal(0,err/100)\n",
    "                diag_sqrt[j] = diag_sqrt[j]*(1+a)\n",
    "            diag_new = (diag_sqrt)**2\n",
    "            return diag_new\n",
    "        else:\n",
    "            corr_new = []\n",
    "            for i in range(len(self.base)):\n",
    "                y = math.atanh(self.base[i])\n",
    "                dyin = np.random.normal(0,err/100)\n",
    "                dy = dyin*(math.cosh(y + dyin/2))**2\n",
    "                new_val = y+dy\n",
    "                corr_new.append(math.tanh(new_val))\n",
    "            return corr_new\n",
    "        \n",
    "    def get_distChi2(self, params):\n",
    "        mocks = np.zeros((self.sample_size, len(self.base)))\n",
    "        for s in range(self.sample_size):\n",
    "            mocks[s] = self.get_perturbed(params)\n",
    "        self.invS = np.linalg.inv(np.cov(mocks.T))\n",
    "        mean = []\n",
    "        for i in range(len(self.base)):\n",
    "            mean.append(np.mean(mocks.T[i,:]))\n",
    "        chi2 = []\n",
    "        for i in range(self.sample_size):\n",
    "            chi2.append(self.get_chi2(mocks[i], mean))\n",
    "        return np.array(chi2), mean, self.invS   \n",
    "    \n",
    "    def get_toleranceBounds(self, params):\n",
    "        sample, mean, self.invS = self.get_distChi2(params)\n",
    "        if self.where==\"lower\":\n",
    "            confidence_interval = np.std(sample)\n",
    "            lower_val = np.mean(sample) + confidence_interval\n",
    "            return (self.get_chi2(mean, self.testing) - lower_val)**2\n",
    "        #if self.where==\"upper\":\n",
    "        #    confidence_interval = np.std(sample)\n",
    "        #    upper_val = np.mean(sample) + confidence_interval\n",
    "        #    return (self.get_chi2(mean, self.testing) + upper_val)**2\n",
    "        else:\n",
    "            return (self.get_chi2(mean, self.testing) - np.mean(sample))**2\n",
    "    \n",
    "    def get_bounds(self, params, method):\n",
    "        self.where = \"lower\"\n",
    "        self.sample_size = int(self.sample_size/2)\n",
    "        get_summary = lmfit.minimize(self.get_toleranceBounds, params, args=(), method=method)\n",
    "        lower_bound = get_summary.params.get('err').value\n",
    "        #self.where = \"upper\"\n",
    "        #self.sample_size = int(self.sample_size/2)\n",
    "        #get_summary = lmfit.minimize(self.get_toleranceBounds, params, args=(), method=method)\n",
    "        #upper_bound = get_summary.params.get('err').value\n",
    "        self.where = \"bf\"\n",
    "        self.sample_size = int(self.sample_size*2)\n",
    "        get_summary = lmfit.minimize(self.get_toleranceBounds, params, args=(), method=method)\n",
    "        bf = get_summary.params.get('err').value\n",
    "        interval = abs(bf - lower_bound)\n",
    "        #interval = abs(upper_bound - lower_bound)/2\n",
    "        return np.round(bf,1), np.round(interval,1)"
   ]
  },
  {
   "cell_type": "code",
   "execution_count": null,
   "metadata": {},
   "outputs": [],
   "source": [
    "start_time = time.time()\n",
    "testing = FindError(RotatedGaussianCovariance, RotatedCovariance, sample_size=1000)\n",
    "print(testing.error)\n",
    "print(round(time.time() - start_time, 3), 'seconds or', round((time.time() - start_time)/60, 3), 'minutes')"
   ]
  },
  {
   "cell_type": "code",
   "execution_count": null,
   "metadata": {},
   "outputs": [],
   "source": []
  }
 ],
 "metadata": {
  "kernelspec": {
   "display_name": "Python 3",
   "language": "python",
   "name": "python3"
  },
  "language_info": {
   "codemirror_mode": {
    "name": "ipython",
    "version": 3
   },
   "file_extension": ".py",
   "mimetype": "text/x-python",
   "name": "python",
   "nbconvert_exporter": "python",
   "pygments_lexer": "ipython3",
   "version": "3.8.2"
  }
 },
 "nbformat": 4,
 "nbformat_minor": 4
}
